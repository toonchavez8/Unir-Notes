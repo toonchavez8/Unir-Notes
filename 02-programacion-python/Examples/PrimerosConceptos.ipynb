{
 "cells": [
  {
   "cell_type": "markdown",
   "id": "3267c1ec-78a6-42e3-8760-fc8ae3daf4bb",
   "metadata": {},
   "source": [
    "## Variables"
   ]
  },
  {
   "cell_type": "code",
   "execution_count": 13,
   "id": "41426333-8102-4856-adb3-8643d69636d0",
   "metadata": {},
   "outputs": [
    {
     "name": "stdout",
     "output_type": "stream",
     "text": [
      "hola bebe\n"
     ]
    }
   ],
   "source": [
    "variable = 2\n",
    "if ( variable == 1 ):\n",
    "    print('hola mundo')\n",
    "print('hola bebe')\n",
    "    "
   ]
  },
  {
   "cell_type": "code",
   "execution_count": 39,
   "id": "615d4a46-6dc9-4fa1-9596-19040a853562",
   "metadata": {},
   "outputs": [
    {
     "name": "stdout",
     "output_type": "stream",
     "text": [
      "<class 'float'>\n",
      "<class 'str'>\n"
     ]
    }
   ],
   "source": [
    "n = 3.15\n",
    "print(type(n))\n",
    "n=\"hola mundo\"\n",
    "print(type(n))"
   ]
  },
  {
   "cell_type": "code",
   "execution_count": 41,
   "id": "106b4e91-2865-4316-ab56-23c0df82a0b4",
   "metadata": {},
   "outputs": [
    {
     "name": "stdout",
     "output_type": "stream",
     "text": [
      "hola mundo\n"
     ]
    }
   ],
   "source": [
    "print(n)"
   ]
  },
  {
   "cell_type": "code",
   "execution_count": 43,
   "id": "73dff8b3-0f70-4505-8716-d286e93fb6cf",
   "metadata": {},
   "outputs": [
    {
     "data": {
      "text/plain": [
       "str"
      ]
     },
     "execution_count": 43,
     "metadata": {},
     "output_type": "execute_result"
    }
   ],
   "source": [
    "type(n)"
   ]
  },
  {
   "cell_type": "markdown",
   "id": "576eab53-bfb9-453a-9754-974425b824b9",
   "metadata": {},
   "source": [
    "## Constantes\n"
   ]
  },
  {
   "cell_type": "code",
   "execution_count": 60,
   "id": "2b2c4413-db71-4666-af29-f1dadd05c834",
   "metadata": {},
   "outputs": [],
   "source": [
    "IVA = 0.21\n",
    "\n",
    "precio = 25\n",
    "precio_final = precio +(precio*IVA)"
   ]
  },
  {
   "cell_type": "code",
   "execution_count": 62,
   "id": "aca0a0cf-1512-464d-87eb-8189fd99ffd5",
   "metadata": {},
   "outputs": [
    {
     "name": "stdout",
     "output_type": "stream",
     "text": [
      "30.25\n"
     ]
    }
   ],
   "source": [
    "print(precio_final)"
   ]
  },
  {
   "cell_type": "code",
   "execution_count": 64,
   "id": "c63a5de5-b81b-4b59-93c6-38641cadc451",
   "metadata": {},
   "outputs": [
    {
     "name": "stdout",
     "output_type": "stream",
     "text": [
      "116.0\n"
     ]
    }
   ],
   "source": [
    "import const\n",
    "\n",
    "precio =100\n",
    "precio_final = precio +(precio*const.IVA)\n",
    "print(precio_final)"
   ]
  },
  {
   "cell_type": "markdown",
   "id": "a666e4fc-a52f-4fda-ac53-dffe931a2efb",
   "metadata": {},
   "source": [
    "## Tipos de datos y operadores"
   ]
  },
  {
   "cell_type": "code",
   "execution_count": 67,
   "id": "c93b31fb-607b-48f2-91ec-cd6496a1c585",
   "metadata": {},
   "outputs": [
    {
     "data": {
      "text/plain": [
       "0.6666666666666666"
      ]
     },
     "execution_count": 67,
     "metadata": {},
     "output_type": "execute_result"
    }
   ],
   "source": [
    "2 / 3"
   ]
  },
  {
   "cell_type": "code",
   "execution_count": 95,
   "id": "c69af74f-995e-4f29-bbe3-7c896c7cb819",
   "metadata": {},
   "outputs": [],
   "source": [
    "var=10 "
   ]
  },
  {
   "cell_type": "code",
   "execution_count": 99,
   "id": "43adbcc0-18f3-4402-8e22-1538a3dd72c0",
   "metadata": {},
   "outputs": [],
   "source": [
    "var *= 3\n"
   ]
  },
  {
   "cell_type": "code",
   "execution_count": 103,
   "id": "c2913796-6138-446a-9654-3994c672685e",
   "metadata": {},
   "outputs": [
    {
     "name": "stdout",
     "output_type": "stream",
     "text": [
      "30\n"
     ]
    }
   ],
   "source": [
    "print(var)"
   ]
  },
  {
   "cell_type": "code",
   "execution_count": 105,
   "id": "1d5b46b4-a178-4690-a8a8-fda4ea5f6f54",
   "metadata": {},
   "outputs": [],
   "source": [
    "frase = \"Hola, Python!\""
   ]
  },
  {
   "cell_type": "code",
   "execution_count": 109,
   "id": "cdfd4e00-5520-4312-bc0a-b5e40a0a598b",
   "metadata": {},
   "outputs": [
    {
     "data": {
      "text/plain": [
       "'Python'"
      ]
     },
     "execution_count": 109,
     "metadata": {},
     "output_type": "execute_result"
    }
   ],
   "source": [
    "frase[-7:12\n",
    "]"
   ]
  },
  {
   "cell_type": "code",
   "execution_count": 111,
   "id": "e4190783-c0b1-4add-ada8-7fa445fe8b5e",
   "metadata": {},
   "outputs": [
    {
     "data": {
      "text/plain": [
       "'Hola, Python!'"
      ]
     },
     "execution_count": 111,
     "metadata": {},
     "output_type": "execute_result"
    }
   ],
   "source": [
    "frase.replace(\"Adios\",\"Buenos dias\")"
   ]
  },
  {
   "cell_type": "code",
   "execution_count": 115,
   "id": "da2a76a1-e948-4545-b5e4-5c874c44b7ec",
   "metadata": {},
   "outputs": [
    {
     "data": {
      "text/plain": [
       "True"
      ]
     },
     "execution_count": 115,
     "metadata": {},
     "output_type": "execute_result"
    }
   ],
   "source": [
    "len(\"hola\")<=frase.find(',')"
   ]
  },
  {
   "cell_type": "code",
   "execution_count": 117,
   "id": "5fb2a726-8a62-4f06-a123-82e9a0cec6b2",
   "metadata": {},
   "outputs": [
    {
     "data": {
      "text/plain": [
       "True"
      ]
     },
     "execution_count": 117,
     "metadata": {},
     "output_type": "execute_result"
    }
   ],
   "source": [
    "bool(0) or not(bool())"
   ]
  },
  {
   "cell_type": "code",
   "execution_count": null,
   "id": "e67911f0-d9c7-41ed-be7d-4a7e5f287107",
   "metadata": {},
   "outputs": [],
   "source": []
  }
 ],
 "metadata": {
  "kernelspec": {
   "display_name": "Python [conda env:base] *",
   "language": "python",
   "name": "conda-base-py"
  },
  "language_info": {
   "codemirror_mode": {
    "name": "ipython",
    "version": 3
   },
   "file_extension": ".py",
   "mimetype": "text/x-python",
   "name": "python",
   "nbconvert_exporter": "python",
   "pygments_lexer": "ipython3",
   "version": "3.12.7"
  }
 },
 "nbformat": 4,
 "nbformat_minor": 5
}
