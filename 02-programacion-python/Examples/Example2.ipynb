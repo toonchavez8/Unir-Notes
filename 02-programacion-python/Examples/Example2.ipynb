{
 "cells": [
  {
   "cell_type": "markdown",
   "id": "0b374586-6785-4d71-974b-7a7b3f7b0e21",
   "metadata": {},
   "source": [
    "# Python code"
   ]
  },
  {
   "cell_type": "code",
   "execution_count": 8,
   "id": "843e3e4f-23a2-4adc-b6e8-83e4444c3337",
   "metadata": {},
   "outputs": [
    {
     "name": "stdout",
     "output_type": "stream",
     "text": [
      "Hello world\n"
     ]
    }
   ],
   "source": [
    "print(\"Hello world\")"
   ]
  },
  {
   "cell_type": "code",
   "execution_count": null,
   "id": "9a3b9498-d882-4050-971b-80ef4cda77e3",
   "metadata": {},
   "outputs": [],
   "source": []
  },
  {
   "cell_type": "code",
   "execution_count": null,
   "id": "ef680cf1-daa7-4128-8ed3-84bef67d57a0",
   "metadata": {},
   "outputs": [],
   "source": []
  },
  {
   "cell_type": "code",
   "execution_count": null,
   "id": "a6812f13-94bd-4ce6-bcdd-9c0add3231ec",
   "metadata": {},
   "outputs": [],
   "source": []
  }
 ],
 "metadata": {
  "kernelspec": {
   "display_name": "Python [conda env:base] *",
   "language": "python",
   "name": "conda-base-py"
  },
  "language_info": {
   "codemirror_mode": {
    "name": "ipython",
    "version": 3
   },
   "file_extension": ".py",
   "mimetype": "text/x-python",
   "name": "python",
   "nbconvert_exporter": "python",
   "pygments_lexer": "ipython3",
   "version": "3.12.7"
  }
 },
 "nbformat": 4,
 "nbformat_minor": 5
}
