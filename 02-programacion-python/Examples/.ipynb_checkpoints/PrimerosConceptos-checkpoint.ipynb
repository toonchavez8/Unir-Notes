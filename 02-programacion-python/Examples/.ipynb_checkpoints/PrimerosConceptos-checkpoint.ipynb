{
 "cells": [
  {
   "cell_type": "markdown",
   "id": "3267c1ec-78a6-42e3-8760-fc8ae3daf4bb",
   "metadata": {},
   "source": [
    "## Variables"
   ]
  },
  {
   "cell_type": "code",
   "execution_count": 13,
   "id": "41426333-8102-4856-adb3-8643d69636d0",
   "metadata": {},
   "outputs": [
    {
     "name": "stdout",
     "output_type": "stream",
     "text": [
      "hola bebe\n"
     ]
    }
   ],
   "source": [
    "variable = 2\n",
    "if ( variable == 1 ):\n",
    "    print('hola mundo')\n",
    "print('hola bebe')\n",
    "    "
   ]
  },
  {
   "cell_type": "code",
   "execution_count": 39,
   "id": "615d4a46-6dc9-4fa1-9596-19040a853562",
   "metadata": {},
   "outputs": [
    {
     "name": "stdout",
     "output_type": "stream",
     "text": [
      "<class 'float'>\n",
      "<class 'str'>\n"
     ]
    }
   ],
   "source": [
    "n = 3.15\n",
    "print(type(n))\n",
    "n=\"hola mundo\"\n",
    "print(type(n))"
   ]
  },
  {
   "cell_type": "code",
   "execution_count": 41,
   "id": "106b4e91-2865-4316-ab56-23c0df82a0b4",
   "metadata": {},
   "outputs": [
    {
     "name": "stdout",
     "output_type": "stream",
     "text": [
      "hola mundo\n"
     ]
    }
   ],
   "source": [
    "print(n)"
   ]
  },
  {
   "cell_type": "code",
   "execution_count": 43,
   "id": "73dff8b3-0f70-4505-8716-d286e93fb6cf",
   "metadata": {},
   "outputs": [
    {
     "data": {
      "text/plain": [
       "str"
      ]
     },
     "execution_count": 43,
     "metadata": {},
     "output_type": "execute_result"
    }
   ],
   "source": [
    "type(n)"
   ]
  },
  {
   "cell_type": "markdown",
   "id": "576eab53-bfb9-453a-9754-974425b824b9",
   "metadata": {},
   "source": [
    "## Constantes\n"
   ]
  },
  {
   "cell_type": "code",
   "execution_count": 60,
   "id": "2b2c4413-db71-4666-af29-f1dadd05c834",
   "metadata": {},
   "outputs": [],
   "source": [
    "IVA = 0.21\n",
    "\n",
    "precio = 25\n",
    "precio_final = precio +(precio*IVA)"
   ]
  },
  {
   "cell_type": "code",
   "execution_count": 62,
   "id": "aca0a0cf-1512-464d-87eb-8189fd99ffd5",
   "metadata": {},
   "outputs": [
    {
     "name": "stdout",
     "output_type": "stream",
     "text": [
      "30.25\n"
     ]
    }
   ],
   "source": [
    "print(precio_final)"
   ]
  },
  {
   "cell_type": "code",
   "execution_count": null,
   "id": "c63a5de5-b81b-4b59-93c6-38641cadc451",
   "metadata": {},
   "outputs": [],
   "source": [
    "import const\n",
    "\n",
    "precio =100\n",
    "precio_final = precio +(precio*const.IVA)"
   ]
  }
 ],
 "metadata": {
  "kernelspec": {
   "display_name": "Python [conda env:base] *",
   "language": "python",
   "name": "conda-base-py"
  },
  "language_info": {
   "codemirror_mode": {
    "name": "ipython",
    "version": 3
   },
   "file_extension": ".py",
   "mimetype": "text/x-python",
   "name": "python",
   "nbconvert_exporter": "python",
   "pygments_lexer": "ipython3",
   "version": "3.12.7"
  }
 },
 "nbformat": 4,
 "nbformat_minor": 5
}
